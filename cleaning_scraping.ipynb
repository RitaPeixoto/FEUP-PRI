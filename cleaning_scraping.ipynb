{
 "cells": [
  {
   "cell_type": "code",
   "execution_count": null,
   "metadata": {},
   "outputs": [],
   "source": [
    "import pandas as pd\n",
    "import re\n",
    "from bs4 import BeautifulSoup\n",
    "import requests\n",
    "from more_itertools import sliced"
   ]
  },
  {
   "cell_type": "code",
   "execution_count": null,
   "metadata": {},
   "outputs": [],
   "source": [
    "df = pd.read_csv('GoodReads_100k_books.csv').dropna()"
   ]
  },
  {
   "cell_type": "code",
   "execution_count": 44,
   "metadata": {},
   "outputs": [],
   "source": [
    "regex = re.compile('[Ä®™ÙŠØ©Ð§‡Œ¯ƒŸ]')"
   ]
  },
  {
   "cell_type": "code",
   "execution_count": 36,
   "metadata": {},
   "outputs": [],
   "source": [
    "def regex_filter(val):\n",
    "    if val != None:\n",
    "        mo = re.search(regex, str(val))\n",
    "        if mo != None:\n",
    "            return True\n",
    "        else:\n",
    "            return False\n",
    "    else:\n",
    "        return False"
   ]
  },
  {
   "cell_type": "code",
   "execution_count": null,
   "metadata": {},
   "outputs": [],
   "source": [
    "to_clean = df[df['desc'].apply(regex_filter)]\n",
    "to_clean[\"new_desc\"] = \"\"\n",
    "to_clean.to_csv('to_clean.csv', encoding='utf-8', index=False)"
   ]
  },
  {
   "cell_type": "code",
   "execution_count": null,
   "metadata": {},
   "outputs": [],
   "source": [
    "to_clean = pd.read_csv('to_clean.csv')"
   ]
  },
  {
   "cell_type": "code",
   "execution_count": null,
   "metadata": {},
   "outputs": [],
   "source": [
    "counter = 0 \n",
    "def getNewDesc(url):\n",
    "    global counter\n",
    "    counter = counter + 1\n",
    "    try:\n",
    "        ourUrl = requests.get(str(url))\n",
    "        soup = BeautifulSoup(ourUrl.text, 'html.parser')\n",
    "        description = soup.findAll(\"div\", {\"id\": \"description\"})\n",
    "\n",
    "        if len(description) == 1:\n",
    "            desc = description[0]\n",
    "        else: \n",
    "            desc = description[1]\n",
    "\n",
    "        spans = []\n",
    "        for span in desc.select('span'):\n",
    "            s = re.sub(r'<.*?>', '', str(span))\n",
    "            spans.append(s)\n",
    "\n",
    "        desc = \"\"\n",
    "        if len(spans) == 1:\n",
    "            desc = spans[0]\n",
    "        elif len(spans) > 1:\n",
    "            desc = spans[1]\n",
    "\n",
    "        desc = \" \".join(desc.split())\n",
    "        to_clean.loc[to_clean.link == url, 'new_desc'] = desc\n",
    "\n",
    "    except Exception as e:\n",
    "        print(str(e) + \" -> \" + url)\n",
    "\n",
    "    if counter % 50 == 0:\n",
    "        to_clean.to_csv('to_clean.csv', encoding='utf-8', index=False)\n",
    "        print(str(counter) + \" -> escrevi\")\n",
    "    else:\n",
    "        print(counter)\n",
    "    return True"
   ]
  },
  {
   "cell_type": "code",
   "execution_count": null,
   "metadata": {},
   "outputs": [],
   "source": [
    "to_clean_aux = to_clean.loc[to_clean.new_desc.isna()]\n",
    "to_clean_aux"
   ]
  },
  {
   "cell_type": "code",
   "execution_count": null,
   "metadata": {},
   "outputs": [],
   "source": [
    "to_clean_aux['link'].apply(getNewDesc)\n",
    "to_clean.to_csv('to_clean.csv', encoding='utf-8', index=False)"
   ]
  },
  {
   "cell_type": "code",
   "execution_count": 51,
   "metadata": {},
   "outputs": [],
   "source": [
    "clean = pd.read_csv('to_clean.csv')\n",
    "regex = re.compile('[ÙŠØÐ§‡Œœ¼Å¢¯ƒŸ]')\n",
    "clean = clean[clean[\"new_desc\"].apply(lambda x: regex_filter(x) == False)]\n",
    "clean.to_csv('cleanfile_desc.csv', encoding='utf-8', index=False)"
   ]
  }
 ],
 "metadata": {
  "interpreter": {
   "hash": "63fd5069d213b44bf678585dea6b12cceca9941eaf7f819626cde1f2670de90d"
  },
  "kernelspec": {
   "display_name": "Python 3.9.6 64-bit",
   "language": "python",
   "name": "python3"
  },
  "language_info": {
   "codemirror_mode": {
    "name": "ipython",
    "version": 3
   },
   "file_extension": ".py",
   "mimetype": "text/x-python",
   "name": "python",
   "nbconvert_exporter": "python",
   "pygments_lexer": "ipython3",
   "version": "3.8.5"
  },
  "orig_nbformat": 4
 },
 "nbformat": 4,
 "nbformat_minor": 2
}

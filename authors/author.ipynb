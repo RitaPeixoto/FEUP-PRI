{
 "cells": [
  {
   "cell_type": "code",
   "execution_count": 10,
   "metadata": {},
   "outputs": [],
   "source": [
    "from bs4 import BeautifulSoup\n",
    "import urllib.request\n",
    "import pandas as pd\n",
    "import requests\n",
    "import re"
   ]
  },
  {
   "cell_type": "code",
   "execution_count": 11,
   "metadata": {},
   "outputs": [],
   "source": [
    "df = pd.read_csv('./author3.csv', sep=\";\")\n",
    "df1 = pd.read_csv('../csv/goodreads_clean.csv', sep=\",\")\n",
    "authors_data = []\n",
    "images_data = []\n",
    "descriptions_data = []"
   ]
  },
  {
   "cell_type": "code",
   "execution_count": 12,
   "metadata": {},
   "outputs": [
    {
     "data": {
      "text/plain": [
       "False    45070\n",
       "True     23598\n",
       "Name: description, dtype: int64"
      ]
     },
     "execution_count": 12,
     "metadata": {},
     "output_type": "execute_result"
    }
   ],
   "source": [
    "df['description'].isna().value_counts()"
   ]
  },
  {
   "cell_type": "code",
   "execution_count": 13,
   "metadata": {},
   "outputs": [],
   "source": [
    "df['description'] = df['description'].fillna(\"\")"
   ]
  },
  {
   "cell_type": "code",
   "execution_count": 14,
   "metadata": {},
   "outputs": [],
   "source": [
    "def removeDuplicates(link):\n",
    "    aux = df.loc[df.link == link, 'link'].values[0]\n",
    "    authors = df1.loc[df1.link == aux, 'author'].values[0]\n",
    "    authors = re.sub(r'\"', '', str(authors))\n",
    "    authors = authors.split(',')\n",
    "\n",
    "    i = 0\n",
    "    for author in authors:\n",
    "        if i > 0:\n",
    "            authors_data.append(author)\n",
    "            images_data.append(\"https://i.gr-assets.com/images/S/compressed.photo.goodreads.com/nophoto/user/u_700x933.png\") \n",
    "            descriptions_data.append(\"\") \n",
    "        elif author not in authors_data:  \n",
    "            authors_data.append(author)\n",
    "            images_data.append(df.loc[df.link == link, 'image'].values[0]) \n",
    "            desc = df.loc[df.link == link, 'description'].values[0]\n",
    "            if pd.isna(desc):\n",
    "               descriptions_data.append(\"\") \n",
    "            else:\n",
    "                descriptions_data.append(df.loc[df.link == link, 'description'].values[0]) \n",
    "            i += 1\n",
    "        \n",
    "            \n",
    "\n",
    "    return"
   ]
  },
  {
   "cell_type": "code",
   "execution_count": 15,
   "metadata": {},
   "outputs": [
    {
     "data": {
      "text/plain": [
       "0        None\n",
       "1        None\n",
       "2        None\n",
       "3        None\n",
       "4        None\n",
       "         ... \n",
       "68663    None\n",
       "68664    None\n",
       "68665    None\n",
       "68666    None\n",
       "68667    None\n",
       "Name: link, Length: 68668, dtype: object"
      ]
     },
     "execution_count": 15,
     "metadata": {},
     "output_type": "execute_result"
    }
   ],
   "source": [
    "df['link'].apply(removeDuplicates)\n"
   ]
  },
  {
   "cell_type": "code",
   "execution_count": 16,
   "metadata": {},
   "outputs": [],
   "source": [
    "data = {'Author': authors_data, 'Image': images_data, 'Description': descriptions_data}\n",
    "final = pd.DataFrame(data)\n",
    "final.to_csv('unique_authors.csv', encoding='utf-8', index=False)"
   ]
  }
 ],
 "metadata": {
  "interpreter": {
   "hash": "67813976730298159654077948dafe9512f535d728896878235a0033ac139088"
  },
  "kernelspec": {
   "display_name": "Python 3.8.5 64-bit ('base': conda)",
   "language": "python",
   "name": "python3"
  },
  "language_info": {
   "codemirror_mode": {
    "name": "ipython",
    "version": 3
   },
   "file_extension": ".py",
   "mimetype": "text/x-python",
   "name": "python",
   "nbconvert_exporter": "python",
   "pygments_lexer": "ipython3",
   "version": "3.8.5"
  },
  "orig_nbformat": 4
 },
 "nbformat": 4,
 "nbformat_minor": 2
}

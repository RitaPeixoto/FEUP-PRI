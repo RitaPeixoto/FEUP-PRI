{
 "cells": [
  {
   "cell_type": "code",
   "execution_count": 126,
   "metadata": {},
   "outputs": [],
   "source": [
    "from bs4 import BeautifulSoup\n",
    "import urllib.request\n",
    "import pandas as pd\n",
    "import requests\n",
    "import re"
   ]
  },
  {
   "cell_type": "code",
   "execution_count": 127,
   "metadata": {},
   "outputs": [],
   "source": [
    "df = pd.read_csv('./author3.csv', sep=\";\")\n",
    "df1 = pd.read_csv('../csv/goodreads_clean.csv', sep=\",\")\n",
    "authors_data = []\n",
    "images_data = []\n",
    "descriptions_data = []"
   ]
  },
  {
   "cell_type": "code",
   "execution_count": 128,
   "metadata": {},
   "outputs": [
    {
     "data": {
      "text/plain": [
       "False    45070\n",
       "True     23598\n",
       "Name: description, dtype: int64"
      ]
     },
     "execution_count": 128,
     "metadata": {},
     "output_type": "execute_result"
    }
   ],
   "source": [
    "df['description'].isna().value_counts()"
   ]
  },
  {
   "cell_type": "code",
   "execution_count": 129,
   "metadata": {},
   "outputs": [],
   "source": [
    "df['description'] = df['description'].fillna(\"\")"
   ]
  },
  {
   "cell_type": "code",
   "execution_count": 130,
   "metadata": {},
   "outputs": [
    {
     "data": {
      "text/plain": [
       "Index(['link', 'image', 'description'], dtype='object')"
      ]
     },
     "execution_count": 130,
     "metadata": {},
     "output_type": "execute_result"
    }
   ],
   "source": [
    "df.columns"
   ]
  },
  {
   "cell_type": "code",
   "execution_count": 131,
   "metadata": {},
   "outputs": [
    {
     "data": {
      "text/plain": [
       "0                                                         \n",
       "1        Jeffrey Pfeffer is the Thomas D. Dee II Profes...\n",
       "2                                                         \n",
       "3                                                         \n",
       "4                                                         \n",
       "                               ...                        \n",
       "68663                                                     \n",
       "68664                                                     \n",
       "68665    Sign up for Monthly Newsletter Here: http://ma...\n",
       "68666    Albert Marrin is a historian and the author of...\n",
       "68667    John Lescroart (born January 14, 1948) is an A...\n",
       "Name: description, Length: 68668, dtype: object"
      ]
     },
     "execution_count": 131,
     "metadata": {},
     "output_type": "execute_result"
    }
   ],
   "source": [
    "df['description']"
   ]
  },
  {
   "cell_type": "code",
   "execution_count": 132,
   "metadata": {},
   "outputs": [],
   "source": [
    "def removeDuplicates(link):\n",
    "    aux = df.loc[df.link == link, 'link'].values[0]\n",
    "    authors = df1.loc[df1.link == aux, 'author'].values[0]\n",
    "    authors = re.sub(r'\"', '', str(authors))\n",
    "    authors = authors.split(',')\n",
    "    for author in authors:\n",
    "        if author not in authors_data:\n",
    "            authors_data.append(author)\n",
    "            images_data.append(df.loc[df.link == link, 'image'].values[0]) \n",
    "            desc = df.loc[df.link == link, 'description'].values[0]\n",
    "            if pd.isna(desc):\n",
    "               descriptions_data.append(\"\") \n",
    "            else:\n",
    "                descriptions_data.append(df.loc[df.link == link, 'description'].values[0]) \n",
    "    return"
   ]
  },
  {
   "cell_type": "code",
   "execution_count": 133,
   "metadata": {},
   "outputs": [
    {
     "data": {
      "text/plain": [
       "0        None\n",
       "1        None\n",
       "2        None\n",
       "3        None\n",
       "4        None\n",
       "         ... \n",
       "68663    None\n",
       "68664    None\n",
       "68665    None\n",
       "68666    None\n",
       "68667    None\n",
       "Name: link, Length: 68668, dtype: object"
      ]
     },
     "execution_count": 133,
     "metadata": {},
     "output_type": "execute_result"
    }
   ],
   "source": [
    "df['link'].apply(removeDuplicates)\n"
   ]
  },
  {
   "cell_type": "code",
   "execution_count": 134,
   "metadata": {},
   "outputs": [
    {
     "name": "stdout",
     "output_type": "stream",
     "text": [
      "62579\n",
      "62579\n",
      "62579\n"
     ]
    }
   ],
   "source": [
    "data = {'Author': authors_data, 'Image': images_data, 'Description': descriptions_data}\n",
    "print(len(authors_data))\n",
    "print(len(images_data))\n",
    "print(len(descriptions_data))\n",
    "final = pd.DataFrame(data)\n",
    "final.to_csv('unique_authors.csv', encoding='utf-8', index=False)"
   ]
  }
 ],
 "metadata": {
  "interpreter": {
   "hash": "67813976730298159654077948dafe9512f535d728896878235a0033ac139088"
  },
  "kernelspec": {
   "display_name": "Python 3.8.5 64-bit ('base': conda)",
   "language": "python",
   "name": "python3"
  },
  "language_info": {
   "codemirror_mode": {
    "name": "ipython",
    "version": 3
   },
   "file_extension": ".py",
   "mimetype": "text/x-python",
   "name": "python",
   "nbconvert_exporter": "python",
   "pygments_lexer": "ipython3",
   "version": "3.8.5"
  },
  "orig_nbformat": 4
 },
 "nbformat": 4,
 "nbformat_minor": 2
}

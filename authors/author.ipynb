{
 "cells": [
  {
   "cell_type": "code",
   "execution_count": 10,
   "metadata": {},
   "outputs": [],
   "source": [
    "from bs4 import BeautifulSoup\n",
    "import urllib.request\n",
    "import pandas as pd\n",
    "import requests\n",
    "import re"
   ]
  },
  {
   "cell_type": "code",
   "execution_count": 11,
   "metadata": {},
   "outputs": [],
   "source": [
    "df = pd.read_csv('./author3.csv', sep=\";\")\n",
    "df1 = pd.read_csv('../csv/goodreads_clean.csv', sep=\",\")\n",
    "authors_data = []\n",
    "images_data = []\n",
    "descriptions_data = []"
   ]
  },
  {
   "cell_type": "code",
   "execution_count": 12,
   "metadata": {},
   "outputs": [
    {
     "data": {
      "text/plain": [
       "False    45070\n",
       "True     23598\n",
       "Name: description, dtype: int64"
      ]
     },
     "execution_count": 12,
     "metadata": {},
     "output_type": "execute_result"
    }
   ],
   "source": [
    "df['description'].isna().value_counts()"
   ]
  },
  {
   "cell_type": "code",
   "execution_count": 13,
   "metadata": {},
   "outputs": [],
   "source": [
    "df['description'] = df['description'].fillna(\"\")"
   ]
  },
  {
   "cell_type": "code",
   "execution_count": 14,
   "metadata": {},
   "outputs": [],
   "source": [
    "def removeDuplicates(link):\n",
    "    aux = df.loc[df.link == link, 'link'].values[0]\n",
    "    authors = df1.loc[df1.link == aux, 'author'].values[0]\n",
    "    authors = re.sub(r'\"', '', str(authors))\n",
    "    authors = authors.split(',')\n",
    "\n",
    "    i = 0\n",
    "    for author in authors:\n",
    "        if i > 0:\n",
    "            authors_data.append(author)\n",
    "            images_data.append(\"https://i.gr-assets.com/images/S/compressed.photo.goodreads.com/nophoto/user/u_700x933.png\") \n",
    "            descriptions_data.append(\"\") \n",
    "        elif author not in authors_data:  \n",
    "            authors_data.append(author)\n",
    "            images_data.append(df.loc[df.link == link, 'image'].values[0]) \n",
    "            desc = df.loc[df.link == link, 'description'].values[0]\n",
    "            if pd.isna(desc):\n",
    "               descriptions_data.append(\"\") \n",
    "            else:\n",
    "                descriptions_data.append(df.loc[df.link == link, 'description'].values[0]) \n",
    "            i += 1\n",
    "        \n",
    "            \n",
    "\n",
    "    return"
   ]
  },
  {
   "cell_type": "code",
   "execution_count": 15,
   "metadata": {},
   "outputs": [
    {
     "data": {
      "text/plain": [
       "0        None\n",
       "1        None\n",
       "2        None\n",
       "3        None\n",
       "4        None\n",
       "         ... \n",
       "68663    None\n",
       "68664    None\n",
       "68665    None\n",
       "68666    None\n",
       "68667    None\n",
       "Name: link, Length: 68668, dtype: object"
      ]
     },
     "execution_count": 15,
     "metadata": {},
     "output_type": "execute_result"
    }
   ],
   "source": [
    "df['link'].apply(removeDuplicates)\n"
   ]
  },
  {
   "cell_type": "code",
   "execution_count": 16,
   "metadata": {},
   "outputs": [],
   "source": [
    "data = {'Author': authors_data, 'Image': images_data, 'Description': descriptions_data}\n",
    "final = pd.DataFrame(data)\n",
    "final.to_csv('unique_authors.csv', encoding='utf-8', index=False)"
   ]
  },
  {
   "cell_type": "code",
   "execution_count": 5,
   "metadata": {},
   "outputs": [],
   "source": [
    "df = pd.read_csv('../csv/unique_authors.csv')"
   ]
  },
  {
   "cell_type": "code",
   "execution_count": 6,
   "metadata": {},
   "outputs": [
    {
     "data": {
      "text/html": [
       "<div>\n",
       "<style scoped>\n",
       "    .dataframe tbody tr th:only-of-type {\n",
       "        vertical-align: middle;\n",
       "    }\n",
       "\n",
       "    .dataframe tbody tr th {\n",
       "        vertical-align: top;\n",
       "    }\n",
       "\n",
       "    .dataframe thead th {\n",
       "        text-align: right;\n",
       "    }\n",
       "</style>\n",
       "<table border=\"1\" class=\"dataframe\">\n",
       "  <thead>\n",
       "    <tr style=\"text-align: right;\">\n",
       "      <th></th>\n",
       "      <th>author_name</th>\n",
       "      <th>author_image</th>\n",
       "      <th>author_description</th>\n",
       "    </tr>\n",
       "  </thead>\n",
       "  <tbody>\n",
       "    <tr>\n",
       "      <th>0</th>\n",
       "      <td>Carlotta R. Anderson</td>\n",
       "      <td>https://i.gr-assets.com/images/S/compressed.ph...</td>\n",
       "      <td>NaN</td>\n",
       "    </tr>\n",
       "    <tr>\n",
       "      <th>1</th>\n",
       "      <td>Jeffrey Pfeffer</td>\n",
       "      <td>https://i.gr-assets.com/images/S/compressed.ph...</td>\n",
       "      <td>Jeffrey Pfeffer is the Thomas D. Dee II Profes...</td>\n",
       "    </tr>\n",
       "    <tr>\n",
       "      <th>2</th>\n",
       "      <td>B. Mark Smith</td>\n",
       "      <td>https://i.gr-assets.com/images/S/compressed.ph...</td>\n",
       "      <td>NaN</td>\n",
       "    </tr>\n",
       "    <tr>\n",
       "      <th>3</th>\n",
       "      <td>Laurence M. Hauptman</td>\n",
       "      <td>https://i.gr-assets.com/images/S/compressed.ph...</td>\n",
       "      <td>NaN</td>\n",
       "    </tr>\n",
       "    <tr>\n",
       "      <th>4</th>\n",
       "      <td>Dan Sleigh</td>\n",
       "      <td>https://i.gr-assets.com/images/S/compressed.ph...</td>\n",
       "      <td>NaN</td>\n",
       "    </tr>\n",
       "    <tr>\n",
       "      <th>...</th>\n",
       "      <td>...</td>\n",
       "      <td>...</td>\n",
       "      <td>...</td>\n",
       "    </tr>\n",
       "    <tr>\n",
       "      <th>62574</th>\n",
       "      <td>Suzette Rosenthal</td>\n",
       "      <td>https://i.gr-assets.com/images/S/compressed.ph...</td>\n",
       "      <td>NaN</td>\n",
       "    </tr>\n",
       "    <tr>\n",
       "      <th>62575</th>\n",
       "      <td>Linda Robertson Womack</td>\n",
       "      <td>https://i.gr-assets.com/images/S/compressed.ph...</td>\n",
       "      <td>NaN</td>\n",
       "    </tr>\n",
       "    <tr>\n",
       "      <th>62576</th>\n",
       "      <td>Melissa Lucashenko</td>\n",
       "      <td>https://i.gr-assets.com/images/S/compressed.ph...</td>\n",
       "      <td>Melissa Lucashenko is an Australian writer of ...</td>\n",
       "    </tr>\n",
       "    <tr>\n",
       "      <th>62577</th>\n",
       "      <td>Leonard Verduin</td>\n",
       "      <td>https://i.gr-assets.com/images/S/compressed.ph...</td>\n",
       "      <td>NaN</td>\n",
       "    </tr>\n",
       "    <tr>\n",
       "      <th>62578</th>\n",
       "      <td>Marc E. Fitch</td>\n",
       "      <td>https://i.gr-assets.com/images/S/compressed.ph...</td>\n",
       "      <td>Sign up for Monthly Newsletter Here: http://ma...</td>\n",
       "    </tr>\n",
       "  </tbody>\n",
       "</table>\n",
       "<p>62579 rows × 3 columns</p>\n",
       "</div>"
      ],
      "text/plain": [
       "                  author_name  \\\n",
       "0        Carlotta R. Anderson   \n",
       "1             Jeffrey Pfeffer   \n",
       "2               B. Mark Smith   \n",
       "3        Laurence M. Hauptman   \n",
       "4                  Dan Sleigh   \n",
       "...                       ...   \n",
       "62574       Suzette Rosenthal   \n",
       "62575  Linda Robertson Womack   \n",
       "62576      Melissa Lucashenko   \n",
       "62577         Leonard Verduin   \n",
       "62578           Marc E. Fitch   \n",
       "\n",
       "                                            author_image  \\\n",
       "0      https://i.gr-assets.com/images/S/compressed.ph...   \n",
       "1      https://i.gr-assets.com/images/S/compressed.ph...   \n",
       "2      https://i.gr-assets.com/images/S/compressed.ph...   \n",
       "3      https://i.gr-assets.com/images/S/compressed.ph...   \n",
       "4      https://i.gr-assets.com/images/S/compressed.ph...   \n",
       "...                                                  ...   \n",
       "62574  https://i.gr-assets.com/images/S/compressed.ph...   \n",
       "62575  https://i.gr-assets.com/images/S/compressed.ph...   \n",
       "62576  https://i.gr-assets.com/images/S/compressed.ph...   \n",
       "62577  https://i.gr-assets.com/images/S/compressed.ph...   \n",
       "62578  https://i.gr-assets.com/images/S/compressed.ph...   \n",
       "\n",
       "                                      author_description  \n",
       "0                                                    NaN  \n",
       "1      Jeffrey Pfeffer is the Thomas D. Dee II Profes...  \n",
       "2                                                    NaN  \n",
       "3                                                    NaN  \n",
       "4                                                    NaN  \n",
       "...                                                  ...  \n",
       "62574                                                NaN  \n",
       "62575                                                NaN  \n",
       "62576  Melissa Lucashenko is an Australian writer of ...  \n",
       "62577                                                NaN  \n",
       "62578  Sign up for Monthly Newsletter Here: http://ma...  \n",
       "\n",
       "[62579 rows x 3 columns]"
      ]
     },
     "execution_count": 6,
     "metadata": {},
     "output_type": "execute_result"
    }
   ],
   "source": [
    "df"
   ]
  }
 ],
 "metadata": {
  "interpreter": {
   "hash": "67813976730298159654077948dafe9512f535d728896878235a0033ac139088"
  },
  "kernelspec": {
   "display_name": "Python 3.8.5 64-bit ('base': conda)",
   "language": "python",
   "name": "python3"
  },
  "language_info": {
   "codemirror_mode": {
    "name": "ipython",
    "version": 3
   },
   "file_extension": ".py",
   "mimetype": "text/x-python",
   "name": "python",
   "nbconvert_exporter": "python",
   "pygments_lexer": "ipython3",
   "version": "3.8.12"
  },
  "orig_nbformat": 4
 },
 "nbformat": 4,
 "nbformat_minor": 2
}

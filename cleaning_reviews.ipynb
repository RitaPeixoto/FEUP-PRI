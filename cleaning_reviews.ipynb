{
 "cells": [
  {
   "cell_type": "code",
   "execution_count": 2,
   "metadata": {},
   "outputs": [],
   "source": [
    "import pandas as pd\n",
    "import numpy as np\n",
    "from bs4 import BeautifulSoup\n",
    "import requests\n",
    "import re\n",
    "import csv"
   ]
  },
  {
   "cell_type": "code",
   "execution_count": 15,
   "metadata": {},
   "outputs": [],
   "source": [
    "f = open(\"./csv/scraped_reviews.csv\", encoding='utf8', mode=\"r\")\n",
    "f1 = open(\"./csv/reviews.csv\",  encoding='utf8',mode=\"w\")\n",
    "\n",
    "first = True\n",
    "for i in f:\n",
    "    if first: \n",
    "        first = False\n",
    "        f1.write('id;reviews'+'\\n')\n",
    "        continue \n",
    "    index = i.find(',')\n",
    "    i = i.replace(';', ',').replace(',',';',1)\n",
    "    f1.write(i)"
   ]
  },
  {
   "cell_type": "code",
   "execution_count": 16,
   "metadata": {},
   "outputs": [],
   "source": [
    "df = pd.read_csv('./csv/reviews.csv', sep=';',  encoding='utf-8')\n",
    "\n"
   ]
  },
  {
   "cell_type": "code",
   "execution_count": 17,
   "metadata": {},
   "outputs": [
    {
     "data": {
      "text/html": [
       "<div>\n",
       "<style scoped>\n",
       "    .dataframe tbody tr th:only-of-type {\n",
       "        vertical-align: middle;\n",
       "    }\n",
       "\n",
       "    .dataframe tbody tr th {\n",
       "        vertical-align: top;\n",
       "    }\n",
       "\n",
       "    .dataframe thead th {\n",
       "        text-align: right;\n",
       "    }\n",
       "</style>\n",
       "<table border=\"1\" class=\"dataframe\">\n",
       "  <thead>\n",
       "    <tr style=\"text-align: right;\">\n",
       "      <th></th>\n",
       "      <th>id</th>\n",
       "      <th>reviews</th>\n",
       "    </tr>\n",
       "  </thead>\n",
       "  <tbody>\n",
       "    <tr>\n",
       "      <th>0</th>\n",
       "      <td>14</td>\n",
       "      <td>['This collection of essays is from 1994 and t...</td>\n",
       "    </tr>\n",
       "    <tr>\n",
       "      <th>1</th>\n",
       "      <td>2</td>\n",
       "      <td>[When I read this book, I did not know what to...</td>\n",
       "    </tr>\n",
       "    <tr>\n",
       "      <th>2</th>\n",
       "      <td>7</td>\n",
       "      <td>['This was good. Very extensive. Helped in pla...</td>\n",
       "    </tr>\n",
       "    <tr>\n",
       "      <th>3</th>\n",
       "      <td>6</td>\n",
       "      <td>['No atendió mi expectativa, puede que se deba...</td>\n",
       "    </tr>\n",
       "    <tr>\n",
       "      <th>4</th>\n",
       "      <td>8</td>\n",
       "      <td>['Great book, full with construction details a...</td>\n",
       "    </tr>\n",
       "    <tr>\n",
       "      <th>...</th>\n",
       "      <td>...</td>\n",
       "      <td>...</td>\n",
       "    </tr>\n",
       "    <tr>\n",
       "      <th>510704</th>\n",
       "      <td>99974</td>\n",
       "      <td>[A horror story based off a perfect welfare st...</td>\n",
       "    </tr>\n",
       "    <tr>\n",
       "      <th>510705</th>\n",
       "      <td>99974</td>\n",
       "      <td>['Teine kokkupuude Jack Williamsoniga. Esimene...</td>\n",
       "    </tr>\n",
       "    <tr>\n",
       "      <th>510706</th>\n",
       "      <td>99974</td>\n",
       "      <td>[Serve and obey, and guard men from harm!It is...</td>\n",
       "    </tr>\n",
       "    <tr>\n",
       "      <th>510707</th>\n",
       "      <td>99974</td>\n",
       "      <td>['Poor Underhill is already struggling to keep...</td>\n",
       "    </tr>\n",
       "    <tr>\n",
       "      <th>510708</th>\n",
       "      <td>99974</td>\n",
       "      <td>['Prophetic taleThough the story now seems wel...</td>\n",
       "    </tr>\n",
       "  </tbody>\n",
       "</table>\n",
       "<p>510709 rows × 2 columns</p>\n",
       "</div>"
      ],
      "text/plain": [
       "           id                                            reviews\n",
       "0          14  ['This collection of essays is from 1994 and t...\n",
       "1           2  [When I read this book, I did not know what to...\n",
       "2           7  ['This was good. Very extensive. Helped in pla...\n",
       "3           6  ['No atendió mi expectativa, puede que se deba...\n",
       "4           8  ['Great book, full with construction details a...\n",
       "...       ...                                                ...\n",
       "510704  99974  [A horror story based off a perfect welfare st...\n",
       "510705  99974  ['Teine kokkupuude Jack Williamsoniga. Esimene...\n",
       "510706  99974  [Serve and obey, and guard men from harm!It is...\n",
       "510707  99974  ['Poor Underhill is already struggling to keep...\n",
       "510708  99974  ['Prophetic taleThough the story now seems wel...\n",
       "\n",
       "[510709 rows x 2 columns]"
      ]
     },
     "execution_count": 17,
     "metadata": {},
     "output_type": "execute_result"
    }
   ],
   "source": [
    "df"
   ]
  },
  {
   "cell_type": "code",
   "execution_count": 18,
   "metadata": {},
   "outputs": [
    {
     "data": {
      "text/plain": [
       "Index(['id', 'reviews'], dtype='object')"
      ]
     },
     "execution_count": 18,
     "metadata": {},
     "output_type": "execute_result"
    }
   ],
   "source": [
    "df.columns"
   ]
  },
  {
   "cell_type": "code",
   "execution_count": 19,
   "metadata": {},
   "outputs": [],
   "source": [
    "def remove_plicas(x):\n",
    "    if len(x) > 0:\n",
    "        if x[0] == '\\'': \n",
    "            x = x.replace('\\'', '',1)\n",
    "        if len(x)>0:\n",
    "            if x[len(x)-1] == '\\'': \n",
    "                x = x[:-1]\n",
    "    return x"
   ]
  },
  {
   "cell_type": "code",
   "execution_count": 20,
   "metadata": {},
   "outputs": [],
   "source": [
    "df['reviews'] = df['reviews'].apply(lambda x: x.replace('[','').replace(']','').replace('\\\\','').replace('\"',''))\n",
    "df['reviews'] = df['reviews'].apply(remove_plicas)"
   ]
  },
  {
   "cell_type": "code",
   "execution_count": 21,
   "metadata": {},
   "outputs": [
    {
     "data": {
      "text/plain": [
       "0         This collection of essays is from 1994 and the...\n",
       "1         When I read this book, I did not know what to ...\n",
       "2         This was good. Very extensive. Helped in plann...\n",
       "3         No atendió mi expectativa, puede que se deba p...\n",
       "4         Great book, full with construction details and...\n",
       "                                ...                        \n",
       "510704    A horror story based off a perfect welfare sta...\n",
       "510705    Teine kokkupuude Jack Williamsoniga. Esimene l...\n",
       "510706    Serve and obey, and guard men from harm!It is ...\n",
       "510707    Poor Underhill is already struggling to keep h...\n",
       "510708    Prophetic taleThough the story now seems well ...\n",
       "Name: reviews, Length: 510709, dtype: object"
      ]
     },
     "execution_count": 21,
     "metadata": {},
     "output_type": "execute_result"
    }
   ],
   "source": [
    "df['reviews']"
   ]
  },
  {
   "cell_type": "code",
   "execution_count": 22,
   "metadata": {},
   "outputs": [],
   "source": [
    "regex = re.compile('[®™ÙŠØ©Ð§‡Œ¯ƒŸ]')\n",
    "def regex_filter(val):\n",
    "    if val:\n",
    "        mo = re.search(regex, val)\n",
    "        if mo:\n",
    "            return True\n",
    "        else:\n",
    "            return False\n",
    "    else:\n",
    "        return False"
   ]
  },
  {
   "cell_type": "code",
   "execution_count": 23,
   "metadata": {},
   "outputs": [],
   "source": [
    "indexes = df[df['reviews'].apply(regex_filter)].index\n",
    "\n",
    "df.drop(indexes , inplace=True)"
   ]
  },
  {
   "cell_type": "code",
   "execution_count": 24,
   "metadata": {},
   "outputs": [],
   "source": [
    "df.to_csv('./csv/intermediate_reviews.csv', index = False)"
   ]
  },
  {
   "cell_type": "code",
   "execution_count": 3,
   "metadata": {},
   "outputs": [],
   "source": [
    "df = pd.read_csv('./csv/intermediate_reviews.csv',  encoding='utf-8')"
   ]
  },
  {
   "cell_type": "code",
   "execution_count": 26,
   "metadata": {},
   "outputs": [
    {
     "data": {
      "text/html": [
       "<div>\n",
       "<style scoped>\n",
       "    .dataframe tbody tr th:only-of-type {\n",
       "        vertical-align: middle;\n",
       "    }\n",
       "\n",
       "    .dataframe tbody tr th {\n",
       "        vertical-align: top;\n",
       "    }\n",
       "\n",
       "    .dataframe thead th {\n",
       "        text-align: right;\n",
       "    }\n",
       "</style>\n",
       "<table border=\"1\" class=\"dataframe\">\n",
       "  <thead>\n",
       "    <tr style=\"text-align: right;\">\n",
       "      <th></th>\n",
       "      <th>id</th>\n",
       "      <th>reviews</th>\n",
       "    </tr>\n",
       "  </thead>\n",
       "  <tbody>\n",
       "    <tr>\n",
       "      <th>0</th>\n",
       "      <td>14</td>\n",
       "      <td>This collection of essays is from 1994 and the...</td>\n",
       "    </tr>\n",
       "    <tr>\n",
       "      <th>1</th>\n",
       "      <td>2</td>\n",
       "      <td>When I read this book, I did not know what to ...</td>\n",
       "    </tr>\n",
       "    <tr>\n",
       "      <th>2</th>\n",
       "      <td>7</td>\n",
       "      <td>This was good. Very extensive. Helped in plann...</td>\n",
       "    </tr>\n",
       "    <tr>\n",
       "      <th>3</th>\n",
       "      <td>6</td>\n",
       "      <td>No atendió mi expectativa, puede que se deba p...</td>\n",
       "    </tr>\n",
       "    <tr>\n",
       "      <th>4</th>\n",
       "      <td>8</td>\n",
       "      <td>Great book, full with construction details and...</td>\n",
       "    </tr>\n",
       "    <tr>\n",
       "      <th>...</th>\n",
       "      <td>...</td>\n",
       "      <td>...</td>\n",
       "    </tr>\n",
       "    <tr>\n",
       "      <th>509885</th>\n",
       "      <td>99974</td>\n",
       "      <td>A horror story based off a perfect welfare sta...</td>\n",
       "    </tr>\n",
       "    <tr>\n",
       "      <th>509886</th>\n",
       "      <td>99974</td>\n",
       "      <td>Teine kokkupuude Jack Williamsoniga. Esimene l...</td>\n",
       "    </tr>\n",
       "    <tr>\n",
       "      <th>509887</th>\n",
       "      <td>99974</td>\n",
       "      <td>Serve and obey, and guard men from harm!It is ...</td>\n",
       "    </tr>\n",
       "    <tr>\n",
       "      <th>509888</th>\n",
       "      <td>99974</td>\n",
       "      <td>Poor Underhill is already struggling to keep h...</td>\n",
       "    </tr>\n",
       "    <tr>\n",
       "      <th>509889</th>\n",
       "      <td>99974</td>\n",
       "      <td>Prophetic taleThough the story now seems well ...</td>\n",
       "    </tr>\n",
       "  </tbody>\n",
       "</table>\n",
       "<p>509760 rows × 2 columns</p>\n",
       "</div>"
      ],
      "text/plain": [
       "           id                                            reviews\n",
       "0          14  This collection of essays is from 1994 and the...\n",
       "1           2  When I read this book, I did not know what to ...\n",
       "2           7  This was good. Very extensive. Helped in plann...\n",
       "3           6  No atendió mi expectativa, puede que se deba p...\n",
       "4           8  Great book, full with construction details and...\n",
       "...       ...                                                ...\n",
       "509885  99974  A horror story based off a perfect welfare sta...\n",
       "509886  99974  Teine kokkupuude Jack Williamsoniga. Esimene l...\n",
       "509887  99974  Serve and obey, and guard men from harm!It is ...\n",
       "509888  99974  Poor Underhill is already struggling to keep h...\n",
       "509889  99974  Prophetic taleThough the story now seems well ...\n",
       "\n",
       "[509760 rows x 2 columns]"
      ]
     },
     "execution_count": 26,
     "metadata": {},
     "output_type": "execute_result"
    }
   ],
   "source": [
    "df.dropna()"
   ]
  },
  {
   "cell_type": "code",
   "execution_count": 27,
   "metadata": {},
   "outputs": [],
   "source": [
    "df.to_csv('./csv/final_reviews.csv', index = False)"
   ]
  }
 ],
 "metadata": {
  "interpreter": {
   "hash": "67813976730298159654077948dafe9512f535d728896878235a0033ac139088"
  },
  "kernelspec": {
   "display_name": "Python 3.8.5 64-bit ('base': conda)",
   "language": "python",
   "name": "python3"
  },
  "language_info": {
   "codemirror_mode": {
    "name": "ipython",
    "version": 3
   },
   "file_extension": ".py",
   "mimetype": "text/x-python",
   "name": "python",
   "nbconvert_exporter": "python",
   "pygments_lexer": "ipython3",
   "version": "3.8.5"
  },
  "orig_nbformat": 4
 },
 "nbformat": 4,
 "nbformat_minor": 2
}

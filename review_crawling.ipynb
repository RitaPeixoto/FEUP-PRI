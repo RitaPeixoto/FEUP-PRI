{
 "cells": [
  {
   "cell_type": "code",
   "execution_count": 3,
   "metadata": {},
   "outputs": [],
   "source": [
    "from bs4 import BeautifulSoup\n",
    "import requests"
   ]
  },
  {
   "cell_type": "code",
   "execution_count": 4,
   "metadata": {},
   "outputs": [],
   "source": [
    "import re"
   ]
  },
  {
   "cell_type": "code",
   "execution_count": null,
   "metadata": {},
   "outputs": [],
   "source": [
    "url = 'https://goodreads.com/book/show/1001053.Between_Two_Fires'"
   ]
  },
  {
   "cell_type": "code",
   "execution_count": null,
   "metadata": {},
   "outputs": [],
   "source": [
    "ourUrl = urllib.request.urlopen(url)"
   ]
  },
  {
   "cell_type": "code",
   "execution_count": null,
   "metadata": {},
   "outputs": [],
   "source": [
    "soup=BeautifulSoup(ourUrl, 'html.parser')"
   ]
  },
  {
   "cell_type": "code",
   "execution_count": null,
   "metadata": {},
   "outputs": [],
   "source": [
    "print(soup.prettify())"
   ]
  },
  {
   "cell_type": "code",
   "execution_count": null,
   "metadata": {},
   "outputs": [],
   "source": [
    "review = []\n",
    "for i in soup.find_all('div', {'class':'reviewText'}):\n",
    "    per_review=i.find('span').find('span')\n",
    "    print(per_review)\n",
    "    review.append(per_review)"
   ]
  },
  {
   "cell_type": "code",
   "execution_count": null,
   "metadata": {},
   "outputs": [],
   "source": [
    "len(review)"
   ]
  },
  {
   "cell_type": "code",
   "execution_count": null,
   "metadata": {},
   "outputs": [],
   "source": [
    "len('<span id=\"freeTextContainer5724551808114733861\">')"
   ]
  },
  {
   "cell_type": "code",
   "execution_count": null,
   "metadata": {},
   "outputs": [],
   "source": [
    "new_review = []\n",
    "for each in review:\n",
    "    new_each = re.sub(r'<.*?>', '', str(each))\n",
    "    print(new_each)\n",
    "    print(\"----------\")\n",
    "    new_review.append(new_each)"
   ]
  },
  {
   "cell_type": "code",
   "execution_count": null,
   "metadata": {},
   "outputs": [],
   "source": [
    "# https://goodreads.com/book/show/10027945-tylko-martwi-nie-k-ami\n",
    "# https://goodreads.com/book/show/10024937-iron-house"
   ]
  },
  {
   "cell_type": "code",
   "execution_count": 5,
   "metadata": {},
   "outputs": [],
   "source": [
    "url = \"https://www.goodreads.com/book/show/1031687.The_Cavalry_Maiden\""
   ]
  },
  {
   "cell_type": "code",
   "execution_count": 10,
   "metadata": {},
   "outputs": [
    {
     "name": "stdout",
     "output_type": "stream",
     "text": [
      "The Cavalry Maiden: Journals of a Russian Officer in the Napoleonic Wars\n"
     ]
    }
   ],
   "source": [
    "try:\n",
    "    ourUrl = requests.get(url)\n",
    "    soup = BeautifulSoup(ourUrl.text, 'html.parser')\n",
    "    title = soup.find(\"h1\", {\"id\": \"bookTitle\"})\n",
    "    title = re.sub(r'<.*?>', '', str(title))\n",
    "    title = \" \".join(title.split())\n",
    "    print(title)\n",
    "\n",
    "except Exception as e:\n",
    "    print(\"something went wrong: \" + url)\n",
    "    print(e)"
   ]
  }
 ],
 "metadata": {
  "interpreter": {
   "hash": "b2e22e95839c9680a42a8bcab451ffc0850e7cddc76146d68d3eb9865bb1afd6"
  },
  "kernelspec": {
   "display_name": "Python 3.8.8 64-bit ('base': conda)",
   "name": "python3"
  },
  "language_info": {
   "codemirror_mode": {
    "name": "ipython",
    "version": 3
   },
   "file_extension": ".py",
   "mimetype": "text/x-python",
   "name": "python",
   "nbconvert_exporter": "python",
   "pygments_lexer": "ipython3",
   "version": "3.8.8"
  },
  "orig_nbformat": 4
 },
 "nbformat": 4,
 "nbformat_minor": 2
}

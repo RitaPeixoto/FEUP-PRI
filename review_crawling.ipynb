{
 "cells": [
  {
   "cell_type": "code",
   "execution_count": 3,
   "metadata": {},
   "outputs": [],
   "source": [
    "from bs4 import BeautifulSoup\n",
    "import requests"
   ]
  },
  {
   "cell_type": "code",
   "execution_count": 4,
   "metadata": {},
   "outputs": [],
   "source": [
    "import re"
   ]
  },
  {
   "cell_type": "code",
   "execution_count": null,
   "metadata": {},
   "outputs": [],
   "source": [
    "url = 'https://goodreads.com/book/show/1001053.Between_Two_Fires'"
   ]
  },
  {
   "cell_type": "code",
   "execution_count": null,
   "metadata": {},
   "outputs": [],
   "source": [
    "ourUrl = urllib.request.urlopen(url)"
   ]
  },
  {
   "cell_type": "code",
   "execution_count": null,
   "metadata": {},
   "outputs": [],
   "source": [
    "soup=BeautifulSoup(ourUrl, 'html.parser')"
   ]
  },
  {
   "cell_type": "code",
   "execution_count": null,
   "metadata": {},
   "outputs": [],
   "source": [
    "print(soup.prettify())"
   ]
  },
  {
   "cell_type": "code",
   "execution_count": null,
   "metadata": {},
   "outputs": [],
   "source": [
    "review = []\n",
    "for i in soup.find_all('div', {'class':'reviewText'}):\n",
    "    per_review=i.find('span').find('span')\n",
    "    print(per_review)\n",
    "    review.append(per_review)"
   ]
  },
  {
   "cell_type": "code",
   "execution_count": null,
   "metadata": {},
   "outputs": [],
   "source": [
    "len(review)"
   ]
  },
  {
   "cell_type": "code",
   "execution_count": null,
   "metadata": {},
   "outputs": [],
   "source": [
    "len('<span id=\"freeTextContainer5724551808114733861\">')"
   ]
  },
  {
   "cell_type": "code",
   "execution_count": null,
   "metadata": {},
   "outputs": [],
   "source": [
    "new_review = []\n",
    "for each in review:\n",
    "    new_each = re.sub(r'<.*?>', '', str(each))\n",
    "    print(new_each)\n",
    "    print(\"----------\")\n",
    "    new_review.append(new_each)"
   ]
  },
  {
   "cell_type": "code",
   "execution_count": null,
   "metadata": {},
   "outputs": [],
   "source": [
    "# https://goodreads.com/book/show/10027945-tylko-martwi-nie-k-ami\n",
    "# https://goodreads.com/book/show/10024937-iron-house"
   ]
  },
  {
   "cell_type": "code",
   "execution_count": 5,
   "metadata": {},
   "outputs": [],
   "source": [
    "url = \"https://goodreads.com/book/show/10241509-secret-stairs\""
   ]
  },
  {
   "cell_type": "code",
   "execution_count": 6,
   "metadata": {},
   "outputs": [
    {
     "name": "stdout",
     "output_type": "stream",
     "text": [
      "<div class=\"readable stacked\" id=\"description\" style=\"right:0\">\n",
      "<span id=\"freeTextContainer14217842352565793802\">The hills of the East Bay contain one of the finest and densest urban hiking environments in the state of California—more than 400 paved pathways and public staircases lattice up and down the slopes of Berkeley and Oakland alone. Rising high above the city centers, with towering views of the San Francisco Bay, the Bay Bridge, and San Francisco itself, these elegant civic w</span>\n",
      "<span id=\"freeText14217842352565793802\" style=\"display:none\">The hills of the East Bay contain one of the finest and densest urban hiking environments in the state of California—more than 400 paved pathways and public staircases lattice up and down the slopes of Berkeley and Oakland alone. Rising high above the city centers, with towering views of the San Francisco Bay, the Bay Bridge, and San Francisco itself, these elegant civic walking trails—many of them shaded in oaks and redwoods, and many unknown even to local residents—present a unique landscape for both the casual walker and dedicated hiker.<br/><br/>Charles Fleming, the Southern California author whose bestselling 2010 walking guide <i>Secret Stairs</i> turned the hidden public staircases of Los Angeles into popular hiking trails, now turns his eyes northward. For <i>Secret Stairs: East Bay</i>, Fleming has designed more than 30 individual hiking loops. Linking multiple staircases into one-to two-hour self-guided strolls, these urban treks will delight the tourist, newly arrived Berkeley undergraduate, and veteran Bay Area resident alike.<br/><br/>The circular walks, each calibrated by length, difficulty, and duration—and each accompanied by a detailed, easy-to-follow map—are sprinkled with fascinating facts about the historic staircases, the historic homes around them, and the famous Bay Area characters who gave them their names. Walk the walks of Bret Harte, Mark Twain, and John Muir! Climb Berkeley’s massive Fred Herbert and Tamalpais Paths, hike Easter Way, and summit Sunset Trail! Mount Oakland’s Oakmore stairs, then tackle the hills of Upper Rockridge and Crocker Highlands via the public staircases. And do it all within easy walking distance from BART or bus stops, free parking, and excellent Bay Area cafés.</span>\n",
      "<a data-text-id=\"14217842352565793802\" href=\"#\" onclick=\"swapContent($(this));; return false;\">...more</a>\n",
      "</div>\n",
      "---------\n",
      "The hills of the East Bay contain one of the finest and densest urban hiking environments in the state of California—more than 400 paved pathways and public staircases lattice up and down the slopes of Berkeley and Oakland alone. Rising high above the city centers, with towering views of the San Francisco Bay, the Bay Bridge, and San Francisco itself, these elegant civic walking trails—many of them shaded in oaks and redwoods, and many unknown even to local residents—present a unique landscape for both the casual walker and dedicated hiker.Charles Fleming, the Southern California author whose bestselling 2010 walking guide Secret Stairs turned the hidden public staircases of Los Angeles into popular hiking trails, now turns his eyes northward. For Secret Stairs: East Bay, Fleming has designed more than 30 individual hiking loops. Linking multiple staircases into one-to two-hour self-guided strolls, these urban treks will delight the tourist, newly arrived Berkeley undergraduate, and veteran Bay Area resident alike.The circular walks, each calibrated by length, difficulty, and duration—and each accompanied by a detailed, easy-to-follow map—are sprinkled with fascinating facts about the historic staircases, the historic homes around them, and the famous Bay Area characters who gave them their names. Walk the walks of Bret Harte, Mark Twain, and John Muir! Climb Berkeley’s massive Fred Herbert and Tamalpais Paths, hike Easter Way, and summit Sunset Trail! Mount Oakland’s Oakmore stairs, then tackle the hills of Upper Rockridge and Crocker Highlands via the public staircases. And do it all within easy walking distance from BART or bus stops, free parking, and excellent Bay Area cafés.\n"
     ]
    }
   ],
   "source": [
    "try:\n",
    "    ourUrl = requests.get(url)\n",
    "    soup = BeautifulSoup(ourUrl.text, 'html.parser')\n",
    "    description = soup.findAll(\"div\", {\"id\": \"description\"})\n",
    "\n",
    "    if len(description) == 1:\n",
    "        desc = description[0]\n",
    "    else: \n",
    "        desc = description[1]\n",
    "\n",
    "    print(desc)\n",
    "    print(\"---------\")\n",
    "\n",
    "    spans = []\n",
    "    for span in desc.select('span'):\n",
    "        s = re.sub(r'<.*?>', '', str(span))\n",
    "        spans.append(s)\n",
    "\n",
    "    if len(spans) == 1:\n",
    "        span = spans[0]\n",
    "    elif len(spans) > 1:\n",
    "        span = spans[1]\n",
    "\n",
    "    span = \" \".join(span.split())\n",
    "    print(span)\n",
    "\n",
    "except Exception as e:\n",
    "    print(\"something went wrong: \" + url)\n",
    "    print(e)"
   ]
  }
 ],
 "metadata": {
  "interpreter": {
   "hash": "b2e22e95839c9680a42a8bcab451ffc0850e7cddc76146d68d3eb9865bb1afd6"
  },
  "kernelspec": {
   "display_name": "Python 3.8.8 64-bit ('base': conda)",
   "name": "python3"
  },
  "language_info": {
   "codemirror_mode": {
    "name": "ipython",
    "version": 3
   },
   "file_extension": ".py",
   "mimetype": "text/x-python",
   "name": "python",
   "nbconvert_exporter": "python",
   "pygments_lexer": "ipython3",
   "version": "3.8.5"
  },
  "orig_nbformat": 4
 },
 "nbformat": 4,
 "nbformat_minor": 2
}

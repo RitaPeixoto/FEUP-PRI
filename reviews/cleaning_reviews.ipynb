{
 "cells": [
  {
   "cell_type": "code",
   "execution_count": 6,
   "metadata": {},
   "outputs": [],
   "source": [
    "import pandas as pd\n",
    "import re"
   ]
  },
  {
   "cell_type": "code",
   "execution_count": 7,
   "metadata": {},
   "outputs": [],
   "source": [
    "f = open(\"./csv/scraped_reviews.csv\", encoding='utf8', mode=\"r\")\n",
    "f1 = open(\"./csv/reviews.csv\",  encoding='utf8',mode=\"w\")\n",
    "\n",
    "first = True\n",
    "for i in f:\n",
    "    if first: \n",
    "        first = False\n",
    "        f1.write('id;reviews'+'\\n')\n",
    "        continue \n",
    "    index = i.find(',')\n",
    "    i = i.replace(';', ',').replace(',',';',1)\n",
    "    f1.write(i)"
   ]
  },
  {
   "cell_type": "code",
   "execution_count": 8,
   "metadata": {},
   "outputs": [],
   "source": [
    "df = pd.read_csv('./csv/reviews.csv', sep=';',  encoding='utf-8')"
   ]
  },
  {
   "cell_type": "code",
   "execution_count": 9,
   "metadata": {},
   "outputs": [
    {
     "data": {
      "text/html": [
       "<div>\n",
       "<style scoped>\n",
       "    .dataframe tbody tr th:only-of-type {\n",
       "        vertical-align: middle;\n",
       "    }\n",
       "\n",
       "    .dataframe tbody tr th {\n",
       "        vertical-align: top;\n",
       "    }\n",
       "\n",
       "    .dataframe thead th {\n",
       "        text-align: right;\n",
       "    }\n",
       "</style>\n",
       "<table border=\"1\" class=\"dataframe\">\n",
       "  <thead>\n",
       "    <tr style=\"text-align: right;\">\n",
       "      <th></th>\n",
       "      <th>id</th>\n",
       "      <th>reviews</th>\n",
       "    </tr>\n",
       "  </thead>\n",
       "  <tbody>\n",
       "    <tr>\n",
       "      <th>0</th>\n",
       "      <td>14</td>\n",
       "      <td>['This collection of essays is from 1994 and t...</td>\n",
       "    </tr>\n",
       "    <tr>\n",
       "      <th>1</th>\n",
       "      <td>2</td>\n",
       "      <td>[When I read this book, I did not know what to...</td>\n",
       "    </tr>\n",
       "    <tr>\n",
       "      <th>2</th>\n",
       "      <td>7</td>\n",
       "      <td>['This was good. Very extensive. Helped in pla...</td>\n",
       "    </tr>\n",
       "    <tr>\n",
       "      <th>3</th>\n",
       "      <td>6</td>\n",
       "      <td>['No atendió mi expectativa, puede que se deba...</td>\n",
       "    </tr>\n",
       "    <tr>\n",
       "      <th>4</th>\n",
       "      <td>8</td>\n",
       "      <td>['Great book, full with construction details a...</td>\n",
       "    </tr>\n",
       "    <tr>\n",
       "      <th>...</th>\n",
       "      <td>...</td>\n",
       "      <td>...</td>\n",
       "    </tr>\n",
       "    <tr>\n",
       "      <th>510702</th>\n",
       "      <td>99974</td>\n",
       "      <td>['Amazing, classic novella from SF grand maste...</td>\n",
       "    </tr>\n",
       "    <tr>\n",
       "      <th>510703</th>\n",
       "      <td>99974</td>\n",
       "      <td>['Succinct and to the point, yes dated but eff...</td>\n",
       "    </tr>\n",
       "    <tr>\n",
       "      <th>510704</th>\n",
       "      <td>99974</td>\n",
       "      <td>[A horror story based off a perfect welfare st...</td>\n",
       "    </tr>\n",
       "    <tr>\n",
       "      <th>510705</th>\n",
       "      <td>99974</td>\n",
       "      <td>['Teine kokkupuude Jack Williamsoniga. Esimene...</td>\n",
       "    </tr>\n",
       "    <tr>\n",
       "      <th>510706</th>\n",
       "      <td>99974</td>\n",
       "      <td>[Serve and obey, and guard men from harm!It is...</td>\n",
       "    </tr>\n",
       "  </tbody>\n",
       "</table>\n",
       "<p>510707 rows × 2 columns</p>\n",
       "</div>"
      ],
      "text/plain": [
       "           id                                            reviews\n",
       "0          14  ['This collection of essays is from 1994 and t...\n",
       "1           2  [When I read this book, I did not know what to...\n",
       "2           7  ['This was good. Very extensive. Helped in pla...\n",
       "3           6  ['No atendió mi expectativa, puede que se deba...\n",
       "4           8  ['Great book, full with construction details a...\n",
       "...       ...                                                ...\n",
       "510702  99974  ['Amazing, classic novella from SF grand maste...\n",
       "510703  99974  ['Succinct and to the point, yes dated but eff...\n",
       "510704  99974  [A horror story based off a perfect welfare st...\n",
       "510705  99974  ['Teine kokkupuude Jack Williamsoniga. Esimene...\n",
       "510706  99974  [Serve and obey, and guard men from harm!It is...\n",
       "\n",
       "[510707 rows x 2 columns]"
      ]
     },
     "execution_count": 9,
     "metadata": {},
     "output_type": "execute_result"
    }
   ],
   "source": [
    "df"
   ]
  },
  {
   "cell_type": "code",
   "execution_count": 10,
   "metadata": {},
   "outputs": [
    {
     "data": {
      "text/plain": [
       "Index(['id', 'reviews'], dtype='object')"
      ]
     },
     "execution_count": 10,
     "metadata": {},
     "output_type": "execute_result"
    }
   ],
   "source": [
    "df.columns"
   ]
  },
  {
   "cell_type": "code",
   "execution_count": 11,
   "metadata": {},
   "outputs": [],
   "source": [
    "def remove_plicas(x):\n",
    "    if len(x) > 0:\n",
    "        if x[0] == '\\'': \n",
    "            x = x.replace('\\'', '',1)\n",
    "        if len(x)>0:\n",
    "            if x[len(x)-1] == '\\'': \n",
    "                x = x[:-1]\n",
    "    return x"
   ]
  },
  {
   "cell_type": "code",
   "execution_count": 12,
   "metadata": {},
   "outputs": [],
   "source": [
    "df['reviews'] = df['reviews'].apply(lambda x: x.replace('[','').replace(']','').replace('\\\\','').replace('\"',''))\n",
    "df['reviews'] = df['reviews'].apply(remove_plicas)"
   ]
  },
  {
   "cell_type": "code",
   "execution_count": 13,
   "metadata": {},
   "outputs": [
    {
     "data": {
      "text/plain": [
       "0         This collection of essays is from 1994 and the...\n",
       "1         When I read this book, I did not know what to ...\n",
       "2         This was good. Very extensive. Helped in plann...\n",
       "3         No atendió mi expectativa, puede que se deba p...\n",
       "4         Great book, full with construction details and...\n",
       "                                ...                        \n",
       "510702    Amazing, classic novella from SF grand master ...\n",
       "510703    Succinct and to the point, yes dated but effec...\n",
       "510704    A horror story based off a perfect welfare sta...\n",
       "510705    Teine kokkupuude Jack Williamsoniga. Esimene l...\n",
       "510706    Serve and obey, and guard men from harm!It is ...\n",
       "Name: reviews, Length: 510707, dtype: object"
      ]
     },
     "execution_count": 13,
     "metadata": {},
     "output_type": "execute_result"
    }
   ],
   "source": [
    "df['reviews']"
   ]
  },
  {
   "cell_type": "code",
   "execution_count": 14,
   "metadata": {},
   "outputs": [],
   "source": [
    "regex = re.compile('[®™ÙŠØ©Ð§‡Œ¯ƒŸ]')\n",
    "def regex_filter(val):\n",
    "    if val:\n",
    "        mo = re.search(regex, val)\n",
    "        if mo:\n",
    "            return True\n",
    "        else:\n",
    "            return False\n",
    "    else:\n",
    "        return False"
   ]
  },
  {
   "cell_type": "code",
   "execution_count": 15,
   "metadata": {},
   "outputs": [],
   "source": [
    "indexes = df[df['reviews'].apply(regex_filter)].index\n",
    "\n",
    "df.drop(indexes , inplace=True)"
   ]
  },
  {
   "cell_type": "code",
   "execution_count": 16,
   "metadata": {},
   "outputs": [],
   "source": [
    "df.to_csv('./csv/intermediate_reviews.csv', index = False)"
   ]
  },
  {
   "cell_type": "code",
   "execution_count": 17,
   "metadata": {},
   "outputs": [],
   "source": [
    "df = pd.read_csv('./csv/intermediate_reviews.csv',  encoding='utf-8')"
   ]
  },
  {
   "cell_type": "code",
   "execution_count": 18,
   "metadata": {},
   "outputs": [
    {
     "data": {
      "text/html": [
       "<div>\n",
       "<style scoped>\n",
       "    .dataframe tbody tr th:only-of-type {\n",
       "        vertical-align: middle;\n",
       "    }\n",
       "\n",
       "    .dataframe tbody tr th {\n",
       "        vertical-align: top;\n",
       "    }\n",
       "\n",
       "    .dataframe thead th {\n",
       "        text-align: right;\n",
       "    }\n",
       "</style>\n",
       "<table border=\"1\" class=\"dataframe\">\n",
       "  <thead>\n",
       "    <tr style=\"text-align: right;\">\n",
       "      <th></th>\n",
       "      <th>id</th>\n",
       "      <th>reviews</th>\n",
       "    </tr>\n",
       "  </thead>\n",
       "  <tbody>\n",
       "    <tr>\n",
       "      <th>0</th>\n",
       "      <td>14</td>\n",
       "      <td>This collection of essays is from 1994 and the...</td>\n",
       "    </tr>\n",
       "    <tr>\n",
       "      <th>1</th>\n",
       "      <td>2</td>\n",
       "      <td>When I read this book, I did not know what to ...</td>\n",
       "    </tr>\n",
       "    <tr>\n",
       "      <th>2</th>\n",
       "      <td>7</td>\n",
       "      <td>This was good. Very extensive. Helped in plann...</td>\n",
       "    </tr>\n",
       "    <tr>\n",
       "      <th>3</th>\n",
       "      <td>6</td>\n",
       "      <td>No atendió mi expectativa, puede que se deba p...</td>\n",
       "    </tr>\n",
       "    <tr>\n",
       "      <th>4</th>\n",
       "      <td>8</td>\n",
       "      <td>Great book, full with construction details and...</td>\n",
       "    </tr>\n",
       "    <tr>\n",
       "      <th>...</th>\n",
       "      <td>...</td>\n",
       "      <td>...</td>\n",
       "    </tr>\n",
       "    <tr>\n",
       "      <th>509883</th>\n",
       "      <td>99974</td>\n",
       "      <td>Amazing, classic novella from SF grand master ...</td>\n",
       "    </tr>\n",
       "    <tr>\n",
       "      <th>509884</th>\n",
       "      <td>99974</td>\n",
       "      <td>Succinct and to the point, yes dated but effec...</td>\n",
       "    </tr>\n",
       "    <tr>\n",
       "      <th>509885</th>\n",
       "      <td>99974</td>\n",
       "      <td>A horror story based off a perfect welfare sta...</td>\n",
       "    </tr>\n",
       "    <tr>\n",
       "      <th>509886</th>\n",
       "      <td>99974</td>\n",
       "      <td>Teine kokkupuude Jack Williamsoniga. Esimene l...</td>\n",
       "    </tr>\n",
       "    <tr>\n",
       "      <th>509887</th>\n",
       "      <td>99974</td>\n",
       "      <td>Serve and obey, and guard men from harm!It is ...</td>\n",
       "    </tr>\n",
       "  </tbody>\n",
       "</table>\n",
       "<p>509758 rows × 2 columns</p>\n",
       "</div>"
      ],
      "text/plain": [
       "           id                                            reviews\n",
       "0          14  This collection of essays is from 1994 and the...\n",
       "1           2  When I read this book, I did not know what to ...\n",
       "2           7  This was good. Very extensive. Helped in plann...\n",
       "3           6  No atendió mi expectativa, puede que se deba p...\n",
       "4           8  Great book, full with construction details and...\n",
       "...       ...                                                ...\n",
       "509883  99974  Amazing, classic novella from SF grand master ...\n",
       "509884  99974  Succinct and to the point, yes dated but effec...\n",
       "509885  99974  A horror story based off a perfect welfare sta...\n",
       "509886  99974  Teine kokkupuude Jack Williamsoniga. Esimene l...\n",
       "509887  99974  Serve and obey, and guard men from harm!It is ...\n",
       "\n",
       "[509758 rows x 2 columns]"
      ]
     },
     "execution_count": 18,
     "metadata": {},
     "output_type": "execute_result"
    }
   ],
   "source": [
    "df.dropna()"
   ]
  },
  {
   "cell_type": "code",
   "execution_count": 19,
   "metadata": {},
   "outputs": [],
   "source": [
    "df.to_csv('./csv/final_reviews.csv', index = False)"
   ]
  }
 ],
 "metadata": {
  "interpreter": {
   "hash": "67813976730298159654077948dafe9512f535d728896878235a0033ac139088"
  },
  "kernelspec": {
   "display_name": "Python 3.8.5 64-bit ('base': conda)",
   "language": "python",
   "name": "python3"
  },
  "language_info": {
   "codemirror_mode": {
    "name": "ipython",
    "version": 3
   },
   "file_extension": ".py",
   "mimetype": "text/x-python",
   "name": "python",
   "nbconvert_exporter": "python",
   "pygments_lexer": "ipython3",
   "version": "3.8.5"
  },
  "orig_nbformat": 4
 },
 "nbformat": 4,
 "nbformat_minor": 2
}

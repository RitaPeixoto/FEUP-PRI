{
 "cells": [
  {
   "cell_type": "code",
   "execution_count": null,
   "metadata": {},
   "outputs": [],
   "source": [
    "import pandas as pd\n",
    "import json"
   ]
  },
  {
   "cell_type": "code",
   "execution_count": 18,
   "metadata": {},
   "outputs": [],
   "source": [
    "reviews = pd.read_csv('../csv/reviews_clean.csv')\n",
    "books = pd.read_csv('../csv/goodreads_clean.csv')"
   ]
  },
  {
   "cell_type": "code",
   "execution_count": null,
   "metadata": {},
   "outputs": [],
   "source": [
    "books_dict = books.to_dict(orient='records')\n",
    "reviews_dict = reviews.to_dict(orient='records')"
   ]
  },
  {
   "cell_type": "code",
   "execution_count": null,
   "metadata": {},
   "outputs": [],
   "source": [
    "#for book in books_dict:\n",
    " #   book[\"reviews\"] = []\n",
    "\n",
    "#    for review in list(reviews_dict):\n",
    "#        if review[\"link\"] == book[\"link\"]:\n",
    "#            review.pop(\"link\")\n",
    "#            book[\"reviews\"].append(review)\n",
    "#            reviews_dict.remove(review)\n"
   ]
  },
  {
   "cell_type": "code",
   "execution_count": null,
   "metadata": {},
   "outputs": [],
   "source": [
    "merge_dict = books_dict + reviews_dict"
   ]
  },
  {
   "cell_type": "code",
   "execution_count": null,
   "metadata": {},
   "outputs": [],
   "source": [
    "with open(\"data/data_not_nested.json\", \"w\") as f:\n",
    "    f.write(json.dumps(merge_dict, indent=4))\n",
    "    f.close()"
   ]
  }
 ],
 "metadata": {
  "interpreter": {
   "hash": "e1e2229a1fa9870ee33783501b0558f0ddbc8a2ab996f1e23e75624c7e4b09f8"
  },
  "kernelspec": {
   "display_name": "Python 3.8.5 64-bit ('base': conda)",
   "language": "python",
   "name": "python3"
  },
  "language_info": {
   "codemirror_mode": {
    "name": "ipython",
    "version": 3
   },
   "file_extension": ".py",
   "mimetype": "text/x-python",
   "name": "python",
   "nbconvert_exporter": "python",
   "pygments_lexer": "ipython3",
   "version": "3.8.12"
  },
  "orig_nbformat": 4
 },
 "nbformat": 4,
 "nbformat_minor": 2
}
